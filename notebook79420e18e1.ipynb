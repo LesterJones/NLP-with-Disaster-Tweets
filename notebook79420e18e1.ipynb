{
 "cells": [
  {
   "cell_type": "code",
   "execution_count": 1,
   "id": "eb54330a",
   "metadata": {
    "_cell_guid": "b1076dfc-b9ad-4769-8c92-a6c4dae69d19",
    "_uuid": "8f2839f25d086af736a60e9eeb907d3b93b6e0e5",
    "execution": {
     "iopub.execute_input": "2022-08-18T21:05:53.456056Z",
     "iopub.status.busy": "2022-08-18T21:05:53.455508Z",
     "iopub.status.idle": "2022-08-18T21:05:53.475423Z",
     "shell.execute_reply": "2022-08-18T21:05:53.473945Z"
    },
    "papermill": {
     "duration": 0.031057,
     "end_time": "2022-08-18T21:05:53.478370",
     "exception": false,
     "start_time": "2022-08-18T21:05:53.447313",
     "status": "completed"
    },
    "tags": []
   },
   "outputs": [
    {
     "name": "stdout",
     "output_type": "stream",
     "text": [
      "/kaggle/input/nlp-getting-started/sample_submission.csv\n",
      "/kaggle/input/nlp-getting-started/train.csv\n",
      "/kaggle/input/nlp-getting-started/test.csv\n"
     ]
    }
   ],
   "source": [
    "# This Python 3 environment comes with many helpful analytics libraries installed\n",
    "# It is defined by the kaggle/python Docker image: https://github.com/kaggle/docker-python\n",
    "# For example, here's several helpful packages to load\n",
    "\n",
    "import numpy as np # linear algebra\n",
    "import pandas as pd # data processing, CSV file I/O (e.g. pd.read_csv)\n",
    "%matplotlib inline\n",
    "import matplotlib.pyplot as plt\n",
    "\n",
    "# Input data files are available in the read-only \"../input/\" directory\n",
    "# For example, running this (by clicking run or pressing Shift+Enter) will list all files under the input directory\n",
    "\n",
    "import os\n",
    "for dirname, _, filenames in os.walk('/kaggle/input'):\n",
    "    for filename in filenames:\n",
    "        print(os.path.join(dirname, filename))\n",
    "\n",
    "# You can write up to 20GB to the current directory (/kaggle/working/) that gets preserved as output when you create a version using \"Save & Run All\" \n",
    "# You can also write temporary files to /kaggle/temp/, but they won't be saved outside of the current session"
   ]
  },
  {
   "cell_type": "code",
   "execution_count": 2,
   "id": "2868280a",
   "metadata": {
    "execution": {
     "iopub.execute_input": "2022-08-18T21:05:53.489581Z",
     "iopub.status.busy": "2022-08-18T21:05:53.489072Z",
     "iopub.status.idle": "2022-08-18T21:05:53.558424Z",
     "shell.execute_reply": "2022-08-18T21:05:53.556986Z"
    },
    "papermill": {
     "duration": 0.078121,
     "end_time": "2022-08-18T21:05:53.561207",
     "exception": false,
     "start_time": "2022-08-18T21:05:53.483086",
     "status": "completed"
    },
    "tags": []
   },
   "outputs": [
    {
     "data": {
      "text/html": [
       "<div>\n",
       "<style scoped>\n",
       "    .dataframe tbody tr th:only-of-type {\n",
       "        vertical-align: middle;\n",
       "    }\n",
       "\n",
       "    .dataframe tbody tr th {\n",
       "        vertical-align: top;\n",
       "    }\n",
       "\n",
       "    .dataframe thead th {\n",
       "        text-align: right;\n",
       "    }\n",
       "</style>\n",
       "<table border=\"1\" class=\"dataframe\">\n",
       "  <thead>\n",
       "    <tr style=\"text-align: right;\">\n",
       "      <th></th>\n",
       "      <th>id</th>\n",
       "      <th>keyword</th>\n",
       "      <th>location</th>\n",
       "      <th>text</th>\n",
       "      <th>target</th>\n",
       "    </tr>\n",
       "  </thead>\n",
       "  <tbody>\n",
       "    <tr>\n",
       "      <th>0</th>\n",
       "      <td>1</td>\n",
       "      <td>NaN</td>\n",
       "      <td>NaN</td>\n",
       "      <td>Our Deeds are the Reason of this #earthquake M...</td>\n",
       "      <td>1</td>\n",
       "    </tr>\n",
       "    <tr>\n",
       "      <th>1</th>\n",
       "      <td>4</td>\n",
       "      <td>NaN</td>\n",
       "      <td>NaN</td>\n",
       "      <td>Forest fire near La Ronge Sask. Canada</td>\n",
       "      <td>1</td>\n",
       "    </tr>\n",
       "    <tr>\n",
       "      <th>2</th>\n",
       "      <td>5</td>\n",
       "      <td>NaN</td>\n",
       "      <td>NaN</td>\n",
       "      <td>All residents asked to 'shelter in place' are ...</td>\n",
       "      <td>1</td>\n",
       "    </tr>\n",
       "    <tr>\n",
       "      <th>3</th>\n",
       "      <td>6</td>\n",
       "      <td>NaN</td>\n",
       "      <td>NaN</td>\n",
       "      <td>13,000 people receive #wildfires evacuation or...</td>\n",
       "      <td>1</td>\n",
       "    </tr>\n",
       "    <tr>\n",
       "      <th>4</th>\n",
       "      <td>7</td>\n",
       "      <td>NaN</td>\n",
       "      <td>NaN</td>\n",
       "      <td>Just got sent this photo from Ruby #Alaska as ...</td>\n",
       "      <td>1</td>\n",
       "    </tr>\n",
       "  </tbody>\n",
       "</table>\n",
       "</div>"
      ],
      "text/plain": [
       "   id keyword location                                               text  \\\n",
       "0   1     NaN      NaN  Our Deeds are the Reason of this #earthquake M...   \n",
       "1   4     NaN      NaN             Forest fire near La Ronge Sask. Canada   \n",
       "2   5     NaN      NaN  All residents asked to 'shelter in place' are ...   \n",
       "3   6     NaN      NaN  13,000 people receive #wildfires evacuation or...   \n",
       "4   7     NaN      NaN  Just got sent this photo from Ruby #Alaska as ...   \n",
       "\n",
       "   target  \n",
       "0       1  \n",
       "1       1  \n",
       "2       1  \n",
       "3       1  \n",
       "4       1  "
      ]
     },
     "execution_count": 2,
     "metadata": {},
     "output_type": "execute_result"
    }
   ],
   "source": [
    "train_data = pd.read_csv(\"/kaggle/input/nlp-getting-started/train.csv\")\n",
    "train_data.head()"
   ]
  },
  {
   "cell_type": "code",
   "execution_count": 3,
   "id": "6ee8de1f",
   "metadata": {
    "execution": {
     "iopub.execute_input": "2022-08-18T21:05:53.573063Z",
     "iopub.status.busy": "2022-08-18T21:05:53.572578Z",
     "iopub.status.idle": "2022-08-18T21:05:53.600856Z",
     "shell.execute_reply": "2022-08-18T21:05:53.599848Z"
    },
    "papermill": {
     "duration": 0.037235,
     "end_time": "2022-08-18T21:05:53.603342",
     "exception": false,
     "start_time": "2022-08-18T21:05:53.566107",
     "status": "completed"
    },
    "tags": []
   },
   "outputs": [
    {
     "name": "stdout",
     "output_type": "stream",
     "text": [
      "<class 'pandas.core.frame.DataFrame'>\n",
      "RangeIndex: 7613 entries, 0 to 7612\n",
      "Data columns (total 5 columns):\n",
      " #   Column    Non-Null Count  Dtype \n",
      "---  ------    --------------  ----- \n",
      " 0   id        7613 non-null   int64 \n",
      " 1   keyword   7552 non-null   object\n",
      " 2   location  5080 non-null   object\n",
      " 3   text      7613 non-null   object\n",
      " 4   target    7613 non-null   int64 \n",
      "dtypes: int64(2), object(3)\n",
      "memory usage: 297.5+ KB\n"
     ]
    }
   ],
   "source": [
    "train_data.info()"
   ]
  },
  {
   "cell_type": "code",
   "execution_count": 4,
   "id": "21828e5a",
   "metadata": {
    "execution": {
     "iopub.execute_input": "2022-08-18T21:05:53.615451Z",
     "iopub.status.busy": "2022-08-18T21:05:53.614821Z",
     "iopub.status.idle": "2022-08-18T21:05:53.648715Z",
     "shell.execute_reply": "2022-08-18T21:05:53.647590Z"
    },
    "papermill": {
     "duration": 0.044266,
     "end_time": "2022-08-18T21:05:53.652399",
     "exception": false,
     "start_time": "2022-08-18T21:05:53.608133",
     "status": "completed"
    },
    "tags": []
   },
   "outputs": [
    {
     "data": {
      "text/html": [
       "<div>\n",
       "<style scoped>\n",
       "    .dataframe tbody tr th:only-of-type {\n",
       "        vertical-align: middle;\n",
       "    }\n",
       "\n",
       "    .dataframe tbody tr th {\n",
       "        vertical-align: top;\n",
       "    }\n",
       "\n",
       "    .dataframe thead th {\n",
       "        text-align: right;\n",
       "    }\n",
       "</style>\n",
       "<table border=\"1\" class=\"dataframe\">\n",
       "  <thead>\n",
       "    <tr style=\"text-align: right;\">\n",
       "      <th></th>\n",
       "      <th>id</th>\n",
       "      <th>keyword</th>\n",
       "      <th>location</th>\n",
       "      <th>text</th>\n",
       "    </tr>\n",
       "  </thead>\n",
       "  <tbody>\n",
       "    <tr>\n",
       "      <th>0</th>\n",
       "      <td>0</td>\n",
       "      <td>NaN</td>\n",
       "      <td>NaN</td>\n",
       "      <td>Just happened a terrible car crash</td>\n",
       "    </tr>\n",
       "    <tr>\n",
       "      <th>1</th>\n",
       "      <td>2</td>\n",
       "      <td>NaN</td>\n",
       "      <td>NaN</td>\n",
       "      <td>Heard about #earthquake is different cities, s...</td>\n",
       "    </tr>\n",
       "    <tr>\n",
       "      <th>2</th>\n",
       "      <td>3</td>\n",
       "      <td>NaN</td>\n",
       "      <td>NaN</td>\n",
       "      <td>there is a forest fire at spot pond, geese are...</td>\n",
       "    </tr>\n",
       "    <tr>\n",
       "      <th>3</th>\n",
       "      <td>9</td>\n",
       "      <td>NaN</td>\n",
       "      <td>NaN</td>\n",
       "      <td>Apocalypse lighting. #Spokane #wildfires</td>\n",
       "    </tr>\n",
       "    <tr>\n",
       "      <th>4</th>\n",
       "      <td>11</td>\n",
       "      <td>NaN</td>\n",
       "      <td>NaN</td>\n",
       "      <td>Typhoon Soudelor kills 28 in China and Taiwan</td>\n",
       "    </tr>\n",
       "  </tbody>\n",
       "</table>\n",
       "</div>"
      ],
      "text/plain": [
       "   id keyword location                                               text\n",
       "0   0     NaN      NaN                 Just happened a terrible car crash\n",
       "1   2     NaN      NaN  Heard about #earthquake is different cities, s...\n",
       "2   3     NaN      NaN  there is a forest fire at spot pond, geese are...\n",
       "3   9     NaN      NaN           Apocalypse lighting. #Spokane #wildfires\n",
       "4  11     NaN      NaN      Typhoon Soudelor kills 28 in China and Taiwan"
      ]
     },
     "execution_count": 4,
     "metadata": {},
     "output_type": "execute_result"
    }
   ],
   "source": [
    "test_data = pd.read_csv(\"/kaggle/input/nlp-getting-started/test.csv\")\n",
    "test_data.head()"
   ]
  },
  {
   "cell_type": "markdown",
   "id": "bf6e9867",
   "metadata": {
    "papermill": {
     "duration": 0.004874,
     "end_time": "2022-08-18T21:05:53.662452",
     "exception": false,
     "start_time": "2022-08-18T21:05:53.657578",
     "status": "completed"
    },
    "tags": []
   },
   "source": [
    "I'm gointo ignore everything, but the text for now.  I think I will run a naive-bayes"
   ]
  },
  {
   "cell_type": "code",
   "execution_count": 5,
   "id": "da56657d",
   "metadata": {
    "execution": {
     "iopub.execute_input": "2022-08-18T21:05:53.675109Z",
     "iopub.status.busy": "2022-08-18T21:05:53.674584Z",
     "iopub.status.idle": "2022-08-18T21:05:53.844037Z",
     "shell.execute_reply": "2022-08-18T21:05:53.842723Z"
    },
    "papermill": {
     "duration": 0.179822,
     "end_time": "2022-08-18T21:05:53.847365",
     "exception": false,
     "start_time": "2022-08-18T21:05:53.667543",
     "status": "completed"
    },
    "tags": []
   },
   "outputs": [
    {
     "data": {
      "text/plain": [
       "<BarContainer object of 2 artists>"
      ]
     },
     "execution_count": 5,
     "metadata": {},
     "output_type": "execute_result"
    },
    {
     "data": {
      "image/png": "[encoded data removed]",
      "text/plain": [
       "<Figure size 360x360 with 1 Axes>"
      ]
     },
     "metadata": {
      "needs_background": "light"
     },
     "output_type": "display_data"
    }
   ],
   "source": [
    "targets = list(train_data['target'])\n",
    "true_tweets = targets.count(0)\n",
    "false_tweets = targets.count(1)\n",
    "\n",
    "plt.figure(figsize=(5,5))\n",
    "plt.bar(['true','false'],[true_tweets, false_tweets])"
   ]
  },
  {
   "cell_type": "code",
   "execution_count": 6,
   "id": "aee09fff",
   "metadata": {
    "execution": {
     "iopub.execute_input": "2022-08-18T21:05:53.862139Z",
     "iopub.status.busy": "2022-08-18T21:05:53.861406Z",
     "iopub.status.idle": "2022-08-18T21:05:53.867413Z",
     "shell.execute_reply": "2022-08-18T21:05:53.866465Z"
    },
    "papermill": {
     "duration": 0.015653,
     "end_time": "2022-08-18T21:05:53.870036",
     "exception": false,
     "start_time": "2022-08-18T21:05:53.854383",
     "status": "completed"
    },
    "tags": []
   },
   "outputs": [
    {
     "name": "stdout",
     "output_type": "stream",
     "text": [
      "0.5703402075397347 percent of tweets are True\n",
      "0.4296597924602653 percent of tweets are False\n"
     ]
    }
   ],
   "source": [
    "print(str(true_tweets / len(targets)) + ' percent of tweets are True')\n",
    "print(str(false_tweets / len(targets)) + ' percent of tweets are False')"
   ]
  },
  {
   "cell_type": "markdown",
   "id": "bd0b1b57",
   "metadata": {
    "papermill": {
     "duration": 0.005274,
     "end_time": "2022-08-18T21:05:53.882000",
     "exception": false,
     "start_time": "2022-08-18T21:05:53.876726",
     "status": "completed"
    },
    "tags": []
   },
   "source": [
    "# Use NLTK to process the tweets, and create a simpler text without punctuation."
   ]
  },
  {
   "cell_type": "code",
   "execution_count": 7,
   "id": "a6c1cce6",
   "metadata": {
    "execution": {
     "iopub.execute_input": "2022-08-18T21:05:53.895522Z",
     "iopub.status.busy": "2022-08-18T21:05:53.894710Z",
     "iopub.status.idle": "2022-08-18T21:06:29.269832Z",
     "shell.execute_reply": "2022-08-18T21:06:29.268277Z"
    },
    "papermill": {
     "duration": 35.385581,
     "end_time": "2022-08-18T21:06:29.273149",
     "exception": false,
     "start_time": "2022-08-18T21:05:53.887568",
     "status": "completed"
    },
    "tags": []
   },
   "outputs": [
    {
     "name": "stderr",
     "output_type": "stream",
     "text": [
      "[nltk_data] Downloading package omw-1.4 to /usr/share/nltk_data...\n"
     ]
    }
   ],
   "source": [
    "# importing NLTK libarary stopwords \n",
    "import nltk\n",
    "nltk.download('omw-1.4')\n",
    "from nltk.corpus import stopwords\n",
    "from nltk.tokenize import word_tokenize\n",
    "from nltk.stem import PorterStemmer\n",
    "from nltk.stem import WordNetLemmatizer\n",
    "\n",
    "# Set up stemmer and lemmatizer\n",
    "stemmer = PorterStemmer()\n",
    "lemmatizer = WordNetLemmatizer()\n",
    "\n",
    "# Stemmer\n",
    "def word_stemmer(words):\n",
    "    stem_words = [stemmer.stem(o) for o in words]\n",
    "    return \" \".join(stem_words)\n",
    "\n",
    "# Lemmatizer\n",
    "def word_lemmatizer(words):\n",
    "    lemma_words = [lemmatizer.lemmatize(o) for o in words]\n",
    "    return \" \".join(lemma_words)\n",
    "\n",
    "\n",
    "# Create a function that will strip out punctuation, lower_case, and strip out stop words.\n",
    "def modify_text_list(text_lst):\n",
    "    modified_text_lst = list()\n",
    "    for entry in text_lst:\n",
    "        text = entry\n",
    "        text = text.lower()\n",
    "        letters = list(text)\n",
    "        alphabet = ' abcdefghijklmnopqrstuvwxyz'\n",
    "        new_text = ''\n",
    "        i = 0\n",
    "        while i < len(letters):\n",
    "            letter = letters[i]\n",
    "            if letter in alphabet:\n",
    "                new_text += letter\n",
    "            i += 1\n",
    "        text_tokens = word_tokenize(new_text)\n",
    "        tokens_without_sw = [word for word in text_tokens if not word in stopwords.words('english')]\n",
    "        tokens_without_sw = ' '.join(tokens_without_sw)\n",
    "        tokens_without_sw = word_stemmer(tokens_without_sw.split(' '))\n",
    "        tokens_without_sw = word_lemmatizer(tokens_without_sw.split(' '))\n",
    "        modified_text_lst.append(tokens_without_sw)\n",
    "    return modified_text_lst\n",
    "\n",
    "# Update train_data\n",
    "tweets = train_data[\"text\"]\n",
    "tweets = list(tweets)\n",
    "modified_tweets = modify_text_list(tweets)\n",
    "train_data['modified_tweets'] = modified_tweets\n",
    "\n",
    "# Update test_data\n",
    "tweets = test_data[\"text\"]\n",
    "tweets = list(tweets)\n",
    "modified_tweets = modify_text_list(tweets)\n",
    "test_data['modified_tweets'] = modified_tweets"
   ]
  },
  {
   "cell_type": "markdown",
   "id": "0ca5d2c1",
   "metadata": {
    "papermill": {
     "duration": 0.005225,
     "end_time": "2022-08-18T21:06:29.284227",
     "exception": false,
     "start_time": "2022-08-18T21:06:29.279002",
     "status": "completed"
    },
    "tags": []
   },
   "source": [
    "# Set up a pipeline"
   ]
  },
  {
   "cell_type": "code",
   "execution_count": 8,
   "id": "4889edcc",
   "metadata": {
    "execution": {
     "iopub.execute_input": "2022-08-18T21:06:29.297826Z",
     "iopub.status.busy": "2022-08-18T21:06:29.297318Z",
     "iopub.status.idle": "2022-08-18T21:06:29.310237Z",
     "shell.execute_reply": "2022-08-18T21:06:29.308824Z"
    },
    "papermill": {
     "duration": 0.023802,
     "end_time": "2022-08-18T21:06:29.313552",
     "exception": false,
     "start_time": "2022-08-18T21:06:29.289750",
     "status": "completed"
    },
    "tags": []
   },
   "outputs": [],
   "source": [
    "from sklearn.feature_extraction.text import TfidfVectorizer\n",
    "from sklearn.naive_bayes import MultinomialNB\n",
    "from sklearn.pipeline import make_pipeline\n",
    "\n",
    "model = make_pipeline(TfidfVectorizer(), MultinomialNB())"
   ]
  },
  {
   "cell_type": "code",
   "execution_count": 9,
   "id": "474b050c",
   "metadata": {
    "execution": {
     "iopub.execute_input": "2022-08-18T21:06:29.327803Z",
     "iopub.status.busy": "2022-08-18T21:06:29.326810Z",
     "iopub.status.idle": "2022-08-18T21:06:29.503564Z",
     "shell.execute_reply": "2022-08-18T21:06:29.502127Z"
    },
    "papermill": {
     "duration": 0.186949,
     "end_time": "2022-08-18T21:06:29.506609",
     "exception": false,
     "start_time": "2022-08-18T21:06:29.319660",
     "status": "completed"
    },
    "tags": []
   },
   "outputs": [
    {
     "data": {
      "text/plain": [
       "Pipeline(steps=[('tfidfvectorizer', TfidfVectorizer()),\n",
       "                ('multinomialnb', MultinomialNB())])"
      ]
     },
     "execution_count": 9,
     "metadata": {},
     "output_type": "execute_result"
    }
   ],
   "source": [
    "X = train_data['modified_tweets']\n",
    "y = train_data['target']\n",
    "\n",
    "model.fit(X, y)"
   ]
  },
  {
   "cell_type": "code",
   "execution_count": 10,
   "id": "fa200391",
   "metadata": {
    "execution": {
     "iopub.execute_input": "2022-08-18T21:06:29.520025Z",
     "iopub.status.busy": "2022-08-18T21:06:29.519513Z",
     "iopub.status.idle": "2022-08-18T21:06:29.573367Z",
     "shell.execute_reply": "2022-08-18T21:06:29.572004Z"
    },
    "papermill": {
     "duration": 0.064138,
     "end_time": "2022-08-18T21:06:29.576586",
     "exception": false,
     "start_time": "2022-08-18T21:06:29.512448",
     "status": "completed"
    },
    "tags": []
   },
   "outputs": [],
   "source": [
    "predictions = model.predict(test_data['modified_tweets'])"
   ]
  },
  {
   "cell_type": "code",
   "execution_count": 11,
   "id": "ecd794fc",
   "metadata": {
    "execution": {
     "iopub.execute_input": "2022-08-18T21:06:29.590379Z",
     "iopub.status.busy": "2022-08-18T21:06:29.589855Z",
     "iopub.status.idle": "2022-08-18T21:06:29.606754Z",
     "shell.execute_reply": "2022-08-18T21:06:29.605312Z"
    },
    "papermill": {
     "duration": 0.027104,
     "end_time": "2022-08-18T21:06:29.609751",
     "exception": false,
     "start_time": "2022-08-18T21:06:29.582647",
     "status": "completed"
    },
    "tags": []
   },
   "outputs": [],
   "source": [
    "output = pd.DataFrame({'id': test_data.id, 'target': predictions})\n",
    "output.to_csv('submission.csv', index=False)"
   ]
  }
 ],
 "metadata": {
  "kernelspec": {
   "display_name": "Python 3",
   "language": "python",
   "name": "python3"
  },
  "language_info": {
   "codemirror_mode": {
    "name": "ipython",
    "version": 3
   },
   "file_extension": ".py",
   "mimetype": "text/x-python",
   "name": "python",
   "nbconvert_exporter": "python",
   "pygments_lexer": "ipython3",
   "version": "3.7.12"
  },
  "papermill": {
   "default_parameters": {},
   "duration": 47.174784,
   "end_time": "2022-08-18T21:06:30.945118",
   "environment_variables": {},
   "exception": null,
   "input_path": "__notebook__.ipynb",
   "output_path": "__notebook__.ipynb",
   "parameters": {},
   "start_time": "2022-08-18T21:05:43.770334",
   "version": "2.3.4"
  }
 },
 "nbformat": 4,
 "nbformat_minor": 5
}
